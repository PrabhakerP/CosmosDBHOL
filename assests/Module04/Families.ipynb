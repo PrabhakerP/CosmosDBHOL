{
  "cells": [
    {
      "cell_type": "markdown",
      "metadata": {},
      "source": "## Create **Families** database\n\nCreate the **Families** database with a **Families** container and three documents"
    },
    {
      "cell_type": "code",
      "execution_count": 1,
      "metadata": {
        "collapsed": false,
        "execution": {
          "iopub.execute_input": "2020-07-19T20:15:24.442Z",
          "iopub.status.busy": "2020-07-19T20:15:24.440Z",
          "iopub.status.idle": "2020-07-19T20:15:24.669Z",
          "shell.execute_reply": "2020-07-19T20:15:24.717Z"
        },
        "inputHidden": false,
        "outputHidden": false,
        "trusted": false
      },
      "outputs": [
        {
          "name": "stdout",
          "output_type": "stream",
          "text": "Created Families database\nCreated Families container\n"
        }
      ],
      "source": "from azure.cosmos.partition_key import PartitionKey\n\n# Create the Families database\nfamiliesDb = cosmos_client.create_database('Families')\nprint('Created Families database')\n\n# Create the Families container\nfamilies = familiesDb.create_container(\n    id='Families',\n    partition_key=PartitionKey(path='/location/state'))\nprint('Created Families container')"
    },
    {
      "cell_type": "code",
      "execution_count": 2,
      "metadata": {
        "collapsed": true,
        "execution": {
          "iopub.execute_input": "2020-07-19T20:15:24.791Z",
          "iopub.status.busy": "2020-07-19T20:15:24.734Z",
          "iopub.status.idle": "2020-07-19T20:15:24.809Z",
          "shell.execute_reply": "2020-07-19T20:15:24.811Z"
        },
        "jupyter": {
          "outputs_hidden": false,
          "source_hidden": false
        },
        "nteract": {
          "transient": {
            "deleting": false
          }
        },
        "outputExpanded": false,
        "trusted": false
      },
      "outputs": [
        {
          "name": "stdout",
          "output_type": "stream",
          "text": "Created Andersen document\n"
        }
      ],
      "source": "andersen = {\n    \"id\": \"AndersenFamily\",\n    \"lastName\": \"Andersen\",\n    \"parents\": [\n        { \"firstName\": \"Thomas\", \"relationship\": \"father\" },\n        { \"firstName\": \"Mary Kay\", \"relationship\": \"mother\" }\n    ],\n    \"children\": [\n        { \"firstName\": \"Henriette Thaulow\", \"gender\": \"female\", \"grade\": 5, \"pets\": [\n            { \"givenName\": \"Fluffy\", \"type\": \"Rabbit\" } ]\n        }\n    ],\n    \"location\": { \"state\": \"WA\", \"county\": \"King\", \"city\": \"Seattle\" },\n    \"geo\": { \"type\": \"Point\", \"coordinates\": [ -122.3295, 47.60357 ] },\n    \"isRegistered\": True\n}\n\nfamilies.create_item(body=andersen)\nprint('Created Andersen document')"
    },
    {
      "cell_type": "code",
      "execution_count": 3,
      "metadata": {
        "collapsed": true,
        "execution": {
          "iopub.execute_input": "2020-07-19T20:15:24.863Z",
          "iopub.status.busy": "2020-07-19T20:15:24.814Z",
          "iopub.status.idle": "2020-07-19T20:15:24.899Z",
          "shell.execute_reply": "2020-07-19T20:15:24.946Z"
        },
        "jupyter": {
          "outputs_hidden": false,
          "source_hidden": false
        },
        "nteract": {
          "transient": {
            "deleting": false
          }
        },
        "outputExpanded": false,
        "trusted": false
      },
      "outputs": [
        {
          "name": "stdout",
          "output_type": "stream",
          "text": "Created Smith document\n"
        }
      ],
      "source": "smith = {\n    \"id\": \"SmithFamily\",\n    \"parents\": [\n        { \"familyName\": \"Smith\", \"givenName\": \"James\" },\n        { \"familyName\": \"Curtis\", \"givenName\": \"Helen\" }\n    ],\n    \"children\": [\n        { \"givenName\": \"Michelle\", \"gender\": \"female\", \"grade\": 1 },\n        { \"givenName\": \"John\", \"gender\": \"male\", \"grade\": 7, \"pets\": [\n            { \"givenName\": \"Tweetie\", \"type\": \"Bird\" } ]\n        }\n    ],\n    \"location\": { \"state\": \"NY\", \"county\": \"Queens\", \"city\": \"Forest Hills\" },\n    \"geo\": { \"type\": \"Point\", \"coordinates\": [ -73.84791, 40.72266 ] },\n    \"isRegistered\": True\n}\nfamilies.create_item(body=smith)\nprint('Created Smith document')"
    },
    {
      "cell_type": "code",
      "execution_count": 4,
      "metadata": {
        "collapsed": true,
        "execution": {
          "iopub.execute_input": "2020-07-19T20:15:25.019Z",
          "iopub.status.busy": "2020-07-19T20:15:24.950Z",
          "iopub.status.idle": "2020-07-19T20:15:25.026Z",
          "shell.execute_reply": "2020-07-19T20:15:25.028Z"
        },
        "jupyter": {
          "outputs_hidden": false,
          "source_hidden": false
        },
        "nteract": {
          "transient": {
            "deleting": false
          }
        },
        "outputExpanded": false,
        "trusted": false
      },
      "outputs": [
        {
          "name": "stdout",
          "output_type": "stream",
          "text": "Created Wakefield document\n"
        }
      ],
      "source": "wakefield = {\n    \"id\": \"WakefieldFamily\",\n    \"parents\": [\n        { \"familyName\": \"Wakefield\", \"givenName\": \"Robin\" },\n        { \"familyName\": \"Miller\", \"givenName\": \"Ben\" }\n    ],\n    \"children\": [\n        { \"familyName\": \"Merriam\", \"givenName\": \"Jesse\", \"gender\": \"female\", \"grade\": 6, \"pets\": [\n            { \"givenName\": \"Charlie Brown\", \"type\": \"Dog\" },\n            { \"givenName\": \"Tiger\", \"type\": \"Cat\" },\n            { \"givenName\": \"Princess\", \"type\": \"Cat\" } ]\n        },\n        { \"familyName\": \"Miller\", \"givenName\": \"Lisa\", \"gender\": \"female\", \"grade\": 3, \"pets\": [\n            { \"givenName\": \"Jake\", \"type\": \"Snake\" } ]\n        }\n    ],\n    \"location\": { \"state\": \"NY\", \"county\": \"Manhattan\", \"city\": \"NY\" },\n    \"geo\": { \"type\": \"Point\", \"coordinates\": [ -73.992, 40.73100 ] },\n    \"isRegistered\": False\n}\nfamilies.create_item(body=wakefield)\nprint('Created Wakefield document')"
    }
  ],
  "metadata": {
    "kernelspec": {
      "displayName": "Python 3",
      "language": "python",
      "name": "python3"
    },
    "language_info": {
      "file_extension": "ipynb",
      "mimetype": "application/json",
      "name": "python",
      "version": "3.7"
    },
    "nteract": {
      "version": "dataExplorer 1.0"
    }
  },
  "nbformat": 4,
  "nbformat_minor": 2
}